{
 "cells": [
  {
   "cell_type": "markdown",
   "id": "72571a6f",
   "metadata": {},
   "source": [
    ">__1. What does an empty dictionary's code look like?__"
   ]
  },
  {
   "cell_type": "markdown",
   "id": "9ed0af41",
   "metadata": {},
   "source": [
    "Ans. empty dictionary code looks like below."
   ]
  },
  {
   "cell_type": "code",
   "execution_count": 1,
   "id": "16d4728a",
   "metadata": {},
   "outputs": [
    {
     "data": {
      "text/plain": [
       "dict"
      ]
     },
     "execution_count": 1,
     "metadata": {},
     "output_type": "execute_result"
    }
   ],
   "source": [
    "a={}\n",
    "type(a)"
   ]
  },
  {
   "cell_type": "markdown",
   "id": "a2011a73",
   "metadata": {},
   "source": [
    ">__2. What is the value of a dictionary value with the key 'foo' and the value 42?__"
   ]
  },
  {
   "cell_type": "code",
   "execution_count": 5,
   "id": "3280823b",
   "metadata": {},
   "outputs": [
    {
     "data": {
      "text/plain": [
       "dict_values([42])"
      ]
     },
     "execution_count": 5,
     "metadata": {},
     "output_type": "execute_result"
    }
   ],
   "source": [
    "a={'foo':42}\n",
    "a.values()"
   ]
  },
  {
   "cell_type": "markdown",
   "id": "c1a3c9b9",
   "metadata": {},
   "source": [
    ">__3. What is the most significant distinction between a dictionary and a list?__"
   ]
  },
  {
   "cell_type": "markdown",
   "id": "d8d37ee5",
   "metadata": {},
   "source": [
    "Ans.  The main difference is that items in dictionaries are accessed via keys and not via their position"
   ]
  },
  {
   "cell_type": "markdown",
   "id": "4fb627b7",
   "metadata": {},
   "source": [
    ">__4. What happens if you try to access spam['foo'] if spam is {'bar': 100}?__"
   ]
  },
  {
   "cell_type": "markdown",
   "id": "eb43c37f",
   "metadata": {},
   "source": [
    "Ans.  You will get a key error"
   ]
  },
  {
   "cell_type": "code",
   "execution_count": 10,
   "id": "97736ad5",
   "metadata": {},
   "outputs": [
    {
     "ename": "KeyError",
     "evalue": "'foo'",
     "output_type": "error",
     "traceback": [
      "\u001b[1;31m---------------------------------------------------------------------------\u001b[0m",
      "\u001b[1;31mKeyError\u001b[0m                                  Traceback (most recent call last)",
      "\u001b[1;32m<ipython-input-10-a9492f4b720a>\u001b[0m in \u001b[0;36m<module>\u001b[1;34m\u001b[0m\n\u001b[0;32m      1\u001b[0m \u001b[0mspam\u001b[0m\u001b[1;33m=\u001b[0m\u001b[1;33m{\u001b[0m\u001b[1;34m'bar'\u001b[0m\u001b[1;33m:\u001b[0m \u001b[1;36m100\u001b[0m\u001b[1;33m}\u001b[0m\u001b[1;33m\u001b[0m\u001b[1;33m\u001b[0m\u001b[0m\n\u001b[1;32m----> 2\u001b[1;33m \u001b[0mspam\u001b[0m\u001b[1;33m[\u001b[0m\u001b[1;34m'foo'\u001b[0m\u001b[1;33m]\u001b[0m\u001b[1;33m\u001b[0m\u001b[1;33m\u001b[0m\u001b[0m\n\u001b[0m",
      "\u001b[1;31mKeyError\u001b[0m: 'foo'"
     ]
    }
   ],
   "source": [
    "spam={'bar': 100}\n",
    "spam['foo']"
   ]
  },
  {
   "cell_type": "markdown",
   "id": "ba573250",
   "metadata": {},
   "source": [
    ">__5. If a dictionary is stored in spam, what is the difference between the expressions 'cat' in spam and 'cat' in spam.keys()?__"
   ]
  },
  {
   "cell_type": "markdown",
   "id": "7c74768e",
   "metadata": {},
   "source": [
    "Ans.  There is no difference. The in operator checks whether a value exists as a key in the dictionary."
   ]
  },
  {
   "cell_type": "markdown",
   "id": "babaf3aa",
   "metadata": {},
   "source": [
    ">__6. If a dictionary is stored in spam, what is the difference between the expressions 'cat' in spam and 'cat' in spam.values()?__"
   ]
  },
  {
   "cell_type": "markdown",
   "id": "0c0ff1fe",
   "metadata": {},
   "source": [
    "Ans.  'cat' in spam checks whether there is a 'cat' key in the dictionary, while 'cat' in spam.values() checks whether there is a value 'cat' for one of the keys in spam."
   ]
  },
  {
   "cell_type": "markdown",
   "id": "b42629ff",
   "metadata": {},
   "source": [
    ">__7. What is a shortcut for the following code?__<br>\n",
    "\n",
    "__if 'color' not in spam:__<br>\n",
    "     __spam['color'] = 'black'__\n"
   ]
  },
  {
   "cell_type": "markdown",
   "id": "f019e0f2",
   "metadata": {},
   "source": [
    "Ans.  spam.setdefault('color', 'black')"
   ]
  },
  {
   "cell_type": "markdown",
   "id": "28b1aab2",
   "metadata": {},
   "source": [
    ">__8. How do you \"pretty print\" dictionary values using which module and function?__"
   ]
  },
  {
   "cell_type": "markdown",
   "id": "c66d8ab2",
   "metadata": {},
   "source": [
    "Ans. from pprint import pprint<br>\n",
    "pprint.pprint()"
   ]
  }
 ],
 "metadata": {
  "kernelspec": {
   "display_name": "Python 3",
   "language": "python",
   "name": "python3"
  },
  "language_info": {
   "codemirror_mode": {
    "name": "ipython",
    "version": 3
   },
   "file_extension": ".py",
   "mimetype": "text/x-python",
   "name": "python",
   "nbconvert_exporter": "python",
   "pygments_lexer": "ipython3",
   "version": "3.8.8"
  }
 },
 "nbformat": 4,
 "nbformat_minor": 5
}
